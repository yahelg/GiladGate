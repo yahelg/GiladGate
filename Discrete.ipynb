{
 "metadata": {
  "name": ""
 },
 "nbformat": 3,
 "nbformat_minor": 0,
 "worksheets": [
  {
   "cells": [
    {
     "cell_type": "code",
     "collapsed": false,
     "input": [
      "%run -i GiladGate3q.py\n",
      "from __future__ import division"
     ],
     "language": "python",
     "metadata": {},
     "outputs": [],
     "prompt_number": 50
    },
    {
     "cell_type": "code",
     "collapsed": false,
     "input": [
      "d = params()\n",
      "d.gamma = 0.1\n",
      "d.delta = 1\n",
      "d.gec = 10\n",
      "d.printParams()\n",
      "Ham = -1j*(spre(d.Ht()) - spost(d.Ht())) + d.Ld()\n",
      "\n",
      "def P1t(tm,steps=1000):\n",
      "    dt = 1/d.gec\n",
      "    prop = (dt*Ham).expm()\n",
      "    t = 0\n",
      "    tlist = []\n",
      "    rholist = []\n",
      "    rho = ketbra(L1)\n",
      "    print tm\n",
      "    print steps\n",
      "    print dt\n",
      "    print d.gec\n",
      "    expo = int(tm/steps/dt)\n",
      "\n",
      "    propcorr = (d.correct()*prop)**expo\n",
      "    for i in range(steps):\n",
      "        rho = operate(propcorr,rho)\n",
      "        t += expo*dt\n",
      "        rholist.append(rho)\n",
      "        tlist.append(t)\n",
      "    return tlist,rholist\n",
      "#tm = linspace(0,10000,100)\n",
      "#P = [P1t(t) for t in tm]\n",
      "tlist,rholist = P1t(10013,steps=99)\n",
      "plot(tlist,real(expect(ketbra(L1),rholist)),'*-')\n",
      "\n",
      "#plot(tm,expect(ketbra(L1),real(P)))"
     ],
     "language": "python",
     "metadata": {},
     "outputs": [
      {
       "output_type": "stream",
       "stream": "stdout",
       "text": [
        "g: 0.100000\n",
        "gamma: 0.100000\n",
        "gec: 10.000000\n",
        "delta: 1.000000\n",
        "10013\n",
        "99\n",
        "0.1\n",
        "10\n"
       ]
      },
      {
       "metadata": {},
       "output_type": "pyout",
       "prompt_number": 52,
       "text": [
        "[<matplotlib.lines.Line2D at 0x7f524fb7b5d0>]"
       ]
      },
      {
       "metadata": {},
       "output_type": "display_data",
       "png": "[encoded data removed]",
       "text": [
        "<matplotlib.figure.Figure at 0x7f524ef8ab90>"
       ]
      }
     ],
     "prompt_number": 52
    },
    {
     "cell_type": "code",
     "collapsed": false,
     "input": [
      "steps = 99\n",
      "tm = 10013\n",
      "dt = 1.1\n",
      "int(tm/steps/dt)"
     ],
     "language": "python",
     "metadata": {},
     "outputs": [
      {
       "metadata": {},
       "output_type": "pyout",
       "prompt_number": 33,
       "text": [
        "91"
       ]
      }
     ],
     "prompt_number": 33
    },
    {
     "cell_type": "code",
     "collapsed": false,
     "input": [
      "from __future__ import division"
     ],
     "language": "python",
     "metadata": {},
     "outputs": [],
     "prompt_number": 48
    },
    {
     "cell_type": "code",
     "collapsed": false,
     "input": [],
     "language": "python",
     "metadata": {},
     "outputs": [
      {
       "metadata": {},
       "output_type": "pyout",
       "prompt_number": 49,
       "text": [
        "0.09090909090909091"
       ]
      }
     ],
     "prompt_number": 49
    }
   ],
   "metadata": {}
  }
 ]
}